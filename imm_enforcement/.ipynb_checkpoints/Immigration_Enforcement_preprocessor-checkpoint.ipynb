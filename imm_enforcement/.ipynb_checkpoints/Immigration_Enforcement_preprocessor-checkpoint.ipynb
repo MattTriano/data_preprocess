{
 "cells": [
  {
   "cell_type": "markdown",
   "metadata": {},
   "source": [
    "This is a data preprocessor for Immigration Enforcement Data Tables from https://www.dhs.gov/immigration-statistics/enforcement-actions"
   ]
  },
  {
   "cell_type": "code",
   "execution_count": 1,
   "metadata": {},
   "outputs": [],
   "source": [
    "# General Utility# Gener \n",
    "import pandas as pd\n",
    "import matplotlib.pyplot as plt\n",
    "import seaborn as sns\n",
    "import numpy as np\n",
    "import copy\n",
    "import warnings\n",
    "from IPython.display import display\n",
    "from IPython.display import Image\n",
    "%matplotlib inline"
   ]
  },
  {
   "cell_type": "code",
   "execution_count": 24,
   "metadata": {},
   "outputs": [
    {
     "data": {
      "text/html": [
       "<div>\n",
       "<style scoped>\n",
       "    .dataframe tbody tr th:only-of-type {\n",
       "        vertical-align: middle;\n",
       "    }\n",
       "\n",
       "    .dataframe tbody tr th {\n",
       "        vertical-align: top;\n",
       "    }\n",
       "\n",
       "    .dataframe thead th {\n",
       "        text-align: right;\n",
       "    }\n",
       "</style>\n",
       "<table border=\"1\" class=\"dataframe\">\n",
       "  <thead>\n",
       "    <tr style=\"text-align: right;\">\n",
       "      <th></th>\n",
       "      <th>Year</th>\n",
       "      <th>Number</th>\n",
       "      <th>Year.1</th>\n",
       "      <th>Number.1</th>\n",
       "    </tr>\n",
       "  </thead>\n",
       "  <tbody>\n",
       "    <tr>\n",
       "      <th>40</th>\n",
       "      <td>1965</td>\n",
       "      <td>110371.0</td>\n",
       "      <td>2011</td>\n",
       "      <td>678606.0</td>\n",
       "    </tr>\n",
       "    <tr>\n",
       "      <th>41</th>\n",
       "      <td>1966</td>\n",
       "      <td>138520.0</td>\n",
       "      <td>2012</td>\n",
       "      <td>671327.0</td>\n",
       "    </tr>\n",
       "    <tr>\n",
       "      <th>42</th>\n",
       "      <td>1967</td>\n",
       "      <td>161608.0</td>\n",
       "      <td>2013</td>\n",
       "      <td>662483.0</td>\n",
       "    </tr>\n",
       "    <tr>\n",
       "      <th>43</th>\n",
       "      <td>1968</td>\n",
       "      <td>212057.0</td>\n",
       "      <td>2014</td>\n",
       "      <td>679996.0</td>\n",
       "    </tr>\n",
       "    <tr>\n",
       "      <th>44</th>\n",
       "      <td>1969</td>\n",
       "      <td>283557.0</td>\n",
       "      <td>2015</td>\n",
       "      <td>462388.0</td>\n",
       "    </tr>\n",
       "    <tr>\n",
       "      <th>45</th>\n",
       "      <td>1970</td>\n",
       "      <td>345353.0</td>\n",
       "      <td>2016 4</td>\n",
       "      <td>530250.0</td>\n",
       "    </tr>\n",
       "    <tr>\n",
       "      <th>46</th>\n",
       "      <td>1 Includes the 15 months from July 1, 1975 to ...</td>\n",
       "      <td>NaN</td>\n",
       "      <td>NaN</td>\n",
       "      <td>NaN</td>\n",
       "    </tr>\n",
       "    <tr>\n",
       "      <th>47</th>\n",
       "      <td>2 Beginning in 2008, includes all administrati...</td>\n",
       "      <td>NaN</td>\n",
       "      <td>NaN</td>\n",
       "      <td>NaN</td>\n",
       "    </tr>\n",
       "    <tr>\n",
       "      <th>48</th>\n",
       "      <td>3 Beginning in 2009, data include administrati...</td>\n",
       "      <td>NaN</td>\n",
       "      <td>NaN</td>\n",
       "      <td>NaN</td>\n",
       "    </tr>\n",
       "    <tr>\n",
       "      <th>49</th>\n",
       "      <td>3 The counting methodology for administrative ...</td>\n",
       "      <td>NaN</td>\n",
       "      <td>NaN</td>\n",
       "      <td>NaN</td>\n",
       "    </tr>\n",
       "    <tr>\n",
       "      <th>50</th>\n",
       "      <td>Note: Data refer to Border Patrol apprehension...</td>\n",
       "      <td>NaN</td>\n",
       "      <td>NaN</td>\n",
       "      <td>NaN</td>\n",
       "    </tr>\n",
       "    <tr>\n",
       "      <th>51</th>\n",
       "      <td>Source: U.S. Department of Homeland Security.</td>\n",
       "      <td>NaN</td>\n",
       "      <td>NaN</td>\n",
       "      <td>NaN</td>\n",
       "    </tr>\n",
       "  </tbody>\n",
       "</table>\n",
       "</div>"
      ],
      "text/plain": [
       "                                                 Year    Number  Year.1  \\\n",
       "40                                               1965  110371.0    2011   \n",
       "41                                               1966  138520.0    2012   \n",
       "42                                               1967  161608.0    2013   \n",
       "43                                               1968  212057.0    2014   \n",
       "44                                               1969  283557.0    2015   \n",
       "45                                               1970  345353.0  2016 4   \n",
       "46  1 Includes the 15 months from July 1, 1975 to ...       NaN     NaN   \n",
       "47  2 Beginning in 2008, includes all administrati...       NaN     NaN   \n",
       "48  3 Beginning in 2009, data include administrati...       NaN     NaN   \n",
       "49  3 The counting methodology for administrative ...       NaN     NaN   \n",
       "50  Note: Data refer to Border Patrol apprehension...       NaN     NaN   \n",
       "51     Source: U.S. Department of Homeland Security.        NaN     NaN   \n",
       "\n",
       "    Number.1  \n",
       "40  678606.0  \n",
       "41  671327.0  \n",
       "42  662483.0  \n",
       "43  679996.0  \n",
       "44  462388.0  \n",
       "45  530250.0  \n",
       "46       NaN  \n",
       "47       NaN  \n",
       "48       NaN  \n",
       "49       NaN  \n",
       "50       NaN  \n",
       "51       NaN  "
      ]
     },
     "execution_count": 24,
     "metadata": {},
     "output_type": "execute_result"
    }
   ],
   "source": [
    "df_33 = pd.read_excel('fy2016_table33.xls', header=3)\n",
    "df_33.iloc[40:]"
   ]
  },
  {
   "cell_type": "markdown",
   "metadata": {},
   "source": [
    "The rows at the bottom (46 on) are notes in the excel file, and I don't want them. I could simply drop rows 46+, but if I use this script again with future data releases, I'd have to change that number and that limits reuse. Instead, I'll drop rows with NaN values.   "
   ]
  },
  {
   "cell_type": "code",
   "execution_count": 25,
   "metadata": {},
   "outputs": [
    {
     "data": {
      "text/html": [
       "<div>\n",
       "<style scoped>\n",
       "    .dataframe tbody tr th:only-of-type {\n",
       "        vertical-align: middle;\n",
       "    }\n",
       "\n",
       "    .dataframe tbody tr th {\n",
       "        vertical-align: top;\n",
       "    }\n",
       "\n",
       "    .dataframe thead th {\n",
       "        text-align: right;\n",
       "    }\n",
       "</style>\n",
       "<table border=\"1\" class=\"dataframe\">\n",
       "  <thead>\n",
       "    <tr style=\"text-align: right;\">\n",
       "      <th></th>\n",
       "      <th>Year</th>\n",
       "      <th>Number</th>\n",
       "      <th>Year.1</th>\n",
       "      <th>Number.1</th>\n",
       "    </tr>\n",
       "  </thead>\n",
       "  <tbody>\n",
       "    <tr>\n",
       "      <th>35</th>\n",
       "      <td>1960</td>\n",
       "      <td>70684.0</td>\n",
       "      <td>2006</td>\n",
       "      <td>1206408.0</td>\n",
       "    </tr>\n",
       "    <tr>\n",
       "      <th>36</th>\n",
       "      <td>1961</td>\n",
       "      <td>88823.0</td>\n",
       "      <td>2007</td>\n",
       "      <td>960673.0</td>\n",
       "    </tr>\n",
       "    <tr>\n",
       "      <th>37</th>\n",
       "      <td>1962</td>\n",
       "      <td>92758.0</td>\n",
       "      <td>2008 2</td>\n",
       "      <td>1043759.0</td>\n",
       "    </tr>\n",
       "    <tr>\n",
       "      <th>38</th>\n",
       "      <td>1963</td>\n",
       "      <td>88712.0</td>\n",
       "      <td>2009 3</td>\n",
       "      <td>889212.0</td>\n",
       "    </tr>\n",
       "    <tr>\n",
       "      <th>39</th>\n",
       "      <td>1964</td>\n",
       "      <td>86597.0</td>\n",
       "      <td>2010</td>\n",
       "      <td>796587.0</td>\n",
       "    </tr>\n",
       "    <tr>\n",
       "      <th>40</th>\n",
       "      <td>1965</td>\n",
       "      <td>110371.0</td>\n",
       "      <td>2011</td>\n",
       "      <td>678606.0</td>\n",
       "    </tr>\n",
       "    <tr>\n",
       "      <th>41</th>\n",
       "      <td>1966</td>\n",
       "      <td>138520.0</td>\n",
       "      <td>2012</td>\n",
       "      <td>671327.0</td>\n",
       "    </tr>\n",
       "    <tr>\n",
       "      <th>42</th>\n",
       "      <td>1967</td>\n",
       "      <td>161608.0</td>\n",
       "      <td>2013</td>\n",
       "      <td>662483.0</td>\n",
       "    </tr>\n",
       "    <tr>\n",
       "      <th>43</th>\n",
       "      <td>1968</td>\n",
       "      <td>212057.0</td>\n",
       "      <td>2014</td>\n",
       "      <td>679996.0</td>\n",
       "    </tr>\n",
       "    <tr>\n",
       "      <th>44</th>\n",
       "      <td>1969</td>\n",
       "      <td>283557.0</td>\n",
       "      <td>2015</td>\n",
       "      <td>462388.0</td>\n",
       "    </tr>\n",
       "    <tr>\n",
       "      <th>45</th>\n",
       "      <td>1970</td>\n",
       "      <td>345353.0</td>\n",
       "      <td>2016 4</td>\n",
       "      <td>530250.0</td>\n",
       "    </tr>\n",
       "  </tbody>\n",
       "</table>\n",
       "</div>"
      ],
      "text/plain": [
       "    Year    Number  Year.1   Number.1\n",
       "35  1960   70684.0    2006  1206408.0\n",
       "36  1961   88823.0    2007   960673.0\n",
       "37  1962   92758.0  2008 2  1043759.0\n",
       "38  1963   88712.0  2009 3   889212.0\n",
       "39  1964   86597.0    2010   796587.0\n",
       "40  1965  110371.0    2011   678606.0\n",
       "41  1966  138520.0    2012   671327.0\n",
       "42  1967  161608.0    2013   662483.0\n",
       "43  1968  212057.0    2014   679996.0\n",
       "44  1969  283557.0    2015   462388.0\n",
       "45  1970  345353.0  2016 4   530250.0"
      ]
     },
     "execution_count": 25,
     "metadata": {},
     "output_type": "execute_result"
    }
   ],
   "source": [
    "df_33.dropna(inplace=True)\n",
    "df_33.iloc[35:]"
   ]
  },
  {
   "cell_type": "markdown",
   "metadata": {},
   "source": [
    "Looking at the values for column Year.1, we see that some years have an extra number. In the Excel file, these are superscripts. We don't want to include those either. I'll start by looking at the types of the columns."
   ]
  },
  {
   "cell_type": "code",
   "execution_count": 28,
   "metadata": {},
   "outputs": [
    {
     "name": "stdout",
     "output_type": "stream",
     "text": [
      "<class 'pandas.core.frame.DataFrame'>\n",
      "Int64Index: 46 entries, 0 to 45\n",
      "Data columns (total 4 columns):\n",
      "Year        46 non-null object\n",
      "Number      46 non-null float64\n",
      "Year.1      46 non-null object\n",
      "Number.1    46 non-null float64\n",
      "dtypes: float64(2), object(2)\n",
      "memory usage: 1.8+ KB\n"
     ]
    }
   ],
   "source": [
    "df_33.info()"
   ]
  },
  {
   "cell_type": "code",
   "execution_count": 36,
   "metadata": {},
   "outputs": [
    {
     "data": {
      "text/html": [
       "<div>\n",
       "<style scoped>\n",
       "    .dataframe tbody tr th:only-of-type {\n",
       "        vertical-align: middle;\n",
       "    }\n",
       "\n",
       "    .dataframe tbody tr th {\n",
       "        vertical-align: top;\n",
       "    }\n",
       "\n",
       "    .dataframe thead th {\n",
       "        text-align: right;\n",
       "    }\n",
       "</style>\n",
       "<table border=\"1\" class=\"dataframe\">\n",
       "  <thead>\n",
       "    <tr style=\"text-align: right;\">\n",
       "      <th></th>\n",
       "      <th>Year</th>\n",
       "      <th>Number</th>\n",
       "      <th>Year.1</th>\n",
       "      <th>Number.1</th>\n",
       "    </tr>\n",
       "  </thead>\n",
       "  <tbody>\n",
       "    <tr>\n",
       "      <th>0</th>\n",
       "      <td>1925</td>\n",
       "      <td>22199.0</td>\n",
       "      <td>1971</td>\n",
       "      <td>420126.0</td>\n",
       "    </tr>\n",
       "    <tr>\n",
       "      <th>1</th>\n",
       "      <td>1926</td>\n",
       "      <td>12735.0</td>\n",
       "      <td>1972</td>\n",
       "      <td>505949.0</td>\n",
       "    </tr>\n",
       "    <tr>\n",
       "      <th>2</th>\n",
       "      <td>1927</td>\n",
       "      <td>16393.0</td>\n",
       "      <td>1973</td>\n",
       "      <td>655968.0</td>\n",
       "    </tr>\n",
       "    <tr>\n",
       "      <th>3</th>\n",
       "      <td>1928</td>\n",
       "      <td>23566.0</td>\n",
       "      <td>1974</td>\n",
       "      <td>788145.0</td>\n",
       "    </tr>\n",
       "    <tr>\n",
       "      <th>4</th>\n",
       "      <td>1929</td>\n",
       "      <td>32711.0</td>\n",
       "      <td>1975</td>\n",
       "      <td>766600.0</td>\n",
       "    </tr>\n",
       "    <tr>\n",
       "      <th>5</th>\n",
       "      <td>1930</td>\n",
       "      <td>20880.0</td>\n",
       "      <td>1976 1</td>\n",
       "      <td>1097739.0</td>\n",
       "    </tr>\n",
       "  </tbody>\n",
       "</table>\n",
       "</div>"
      ],
      "text/plain": [
       "   Year   Number  Year.1   Number.1\n",
       "0  1925  22199.0    1971   420126.0\n",
       "1  1926  12735.0    1972   505949.0\n",
       "2  1927  16393.0    1973   655968.0\n",
       "3  1928  23566.0    1974   788145.0\n",
       "4  1929  32711.0    1975   766600.0\n",
       "5  1930  20880.0  1976 1  1097739.0"
      ]
     },
     "execution_count": 36,
     "metadata": {},
     "output_type": "execute_result"
    }
   ],
   "source": [
    "df_33.head(6)"
   ]
  },
  {
   "cell_type": "code",
   "execution_count": 55,
   "metadata": {},
   "outputs": [
    {
     "name": "stdout",
     "output_type": "stream",
     "text": [
      "For the value in row 2, column Year.1 of df_33, the type = <class 'int'>\n",
      "For the value in row 5, column Year.1 of df_33, the type = <class 'str'>\n"
     ]
    }
   ],
   "source": [
    "print('For the value in row {}, column Year.1 of df_33, the type = {}'.format(2,type(df_33['Year.1'][2])))\n",
    "print('For the value in row {}, column Year.1 of df_33, the type = {}'.format(5,type(df_33['Year.1'][5])))"
   ]
  },
  {
   "cell_type": "markdown",
   "metadata": {},
   "source": [
    "Ok, so some of these values are ints, but the ones we need to clean up are Strings. I'll check both columns 'Year' and 'Year.1'. "
   ]
  },
  {
   "cell_type": "code",
   "execution_count": 58,
   "metadata": {},
   "outputs": [
    {
     "data": {
      "text/html": [
       "<div>\n",
       "<style scoped>\n",
       "    .dataframe tbody tr th:only-of-type {\n",
       "        vertical-align: middle;\n",
       "    }\n",
       "\n",
       "    .dataframe tbody tr th {\n",
       "        vertical-align: top;\n",
       "    }\n",
       "\n",
       "    .dataframe thead th {\n",
       "        text-align: right;\n",
       "    }\n",
       "</style>\n",
       "<table border=\"1\" class=\"dataframe\">\n",
       "  <thead>\n",
       "    <tr style=\"text-align: right;\">\n",
       "      <th></th>\n",
       "      <th>Year</th>\n",
       "      <th>Number</th>\n",
       "      <th>Year.1</th>\n",
       "      <th>Number.1</th>\n",
       "    </tr>\n",
       "  </thead>\n",
       "  <tbody>\n",
       "  </tbody>\n",
       "</table>\n",
       "</div>"
      ],
      "text/plain": [
       "Empty DataFrame\n",
       "Columns: [Year, Number, Year.1, Number.1]\n",
       "Index: []"
      ]
     },
     "metadata": {},
     "output_type": "display_data"
    },
    {
     "data": {
      "text/html": [
       "<div>\n",
       "<style scoped>\n",
       "    .dataframe tbody tr th:only-of-type {\n",
       "        vertical-align: middle;\n",
       "    }\n",
       "\n",
       "    .dataframe tbody tr th {\n",
       "        vertical-align: top;\n",
       "    }\n",
       "\n",
       "    .dataframe thead th {\n",
       "        text-align: right;\n",
       "    }\n",
       "</style>\n",
       "<table border=\"1\" class=\"dataframe\">\n",
       "  <thead>\n",
       "    <tr style=\"text-align: right;\">\n",
       "      <th></th>\n",
       "      <th>Year</th>\n",
       "      <th>Number</th>\n",
       "      <th>Year.1</th>\n",
       "      <th>Number.1</th>\n",
       "    </tr>\n",
       "  </thead>\n",
       "  <tbody>\n",
       "    <tr>\n",
       "      <th>5</th>\n",
       "      <td>1930</td>\n",
       "      <td>20880.0</td>\n",
       "      <td>1976 1</td>\n",
       "      <td>1097739.0</td>\n",
       "    </tr>\n",
       "    <tr>\n",
       "      <th>37</th>\n",
       "      <td>1962</td>\n",
       "      <td>92758.0</td>\n",
       "      <td>2008 2</td>\n",
       "      <td>1043759.0</td>\n",
       "    </tr>\n",
       "    <tr>\n",
       "      <th>38</th>\n",
       "      <td>1963</td>\n",
       "      <td>88712.0</td>\n",
       "      <td>2009 3</td>\n",
       "      <td>889212.0</td>\n",
       "    </tr>\n",
       "    <tr>\n",
       "      <th>45</th>\n",
       "      <td>1970</td>\n",
       "      <td>345353.0</td>\n",
       "      <td>2016 4</td>\n",
       "      <td>530250.0</td>\n",
       "    </tr>\n",
       "  </tbody>\n",
       "</table>\n",
       "</div>"
      ],
      "text/plain": [
       "    Year    Number  Year.1   Number.1\n",
       "5   1930   20880.0  1976 1  1097739.0\n",
       "37  1962   92758.0  2008 2  1043759.0\n",
       "38  1963   88712.0  2009 3   889212.0\n",
       "45  1970  345353.0  2016 4   530250.0"
      ]
     },
     "metadata": {},
     "output_type": "display_data"
    }
   ],
   "source": [
    "display(df_33[[type(x) == str for x in df_33['Year']]])\n",
    "display(df_33[[type(x) == str for x in df_33['Year.1']]])"
   ]
  },
  {
   "cell_type": "code",
   "execution_count": 67,
   "metadata": {},
   "outputs": [],
   "source": [
    "tmp = df_33[[type(x) == str for x in df_33['Year.1']]]\n",
    "df_33.loc[[type(x) == str for x in df_33['Year.1']],['Year.1']] = [int(x.split()[0]) for x in tmp['Year.1']]"
   ]
  },
  {
   "cell_type": "code",
   "execution_count": 69,
   "metadata": {},
   "outputs": [
    {
     "name": "stdout",
     "output_type": "stream",
     "text": [
      "For the value in row 2, column Year.1 of df_33, the type = <class 'numpy.int64'>\n",
      "For the value in row 5, column Year.1 of df_33, the type = <class 'numpy.int64'>\n"
     ]
    }
   ],
   "source": [
    "print('For the value in row {}, column Year.1 of df_33, the type = {}'.format(2,type(df_33['Year.1'][2])))\n",
    "print('For the value in row {}, column Year.1 of df_33, the type = {}'.format(5,type(df_33['Year.1'][5])))"
   ]
  },
  {
   "cell_type": "code",
   "execution_count": 70,
   "metadata": {},
   "outputs": [
    {
     "data": {
      "text/html": [
       "<div>\n",
       "<style scoped>\n",
       "    .dataframe tbody tr th:only-of-type {\n",
       "        vertical-align: middle;\n",
       "    }\n",
       "\n",
       "    .dataframe tbody tr th {\n",
       "        vertical-align: top;\n",
       "    }\n",
       "\n",
       "    .dataframe thead th {\n",
       "        text-align: right;\n",
       "    }\n",
       "</style>\n",
       "<table border=\"1\" class=\"dataframe\">\n",
       "  <thead>\n",
       "    <tr style=\"text-align: right;\">\n",
       "      <th></th>\n",
       "      <th>Year</th>\n",
       "      <th>Number</th>\n",
       "      <th>Year.1</th>\n",
       "      <th>Number.1</th>\n",
       "    </tr>\n",
       "  </thead>\n",
       "  <tbody>\n",
       "  </tbody>\n",
       "</table>\n",
       "</div>"
      ],
      "text/plain": [
       "Empty DataFrame\n",
       "Columns: [Year, Number, Year.1, Number.1]\n",
       "Index: []"
      ]
     },
     "metadata": {},
     "output_type": "display_data"
    }
   ],
   "source": [
    "display(df_33[[type(x) == str for x in df_33['Year.1']]])"
   ]
  },
  {
   "cell_type": "markdown",
   "metadata": {},
   "source": [
    "Now we see that there aren't any String values in column 'Year.1' and the values we checked before are no longer int and str, rather they're numpy.int64 now. Pandas automatically coerced them to a smaller and faster type when the added complexity was no longer needed."
   ]
  },
  {
   "cell_type": "code",
   "execution_count": 48,
   "metadata": {},
   "outputs": [
    {
     "data": {
      "text/html": [
       "<div>\n",
       "<style scoped>\n",
       "    .dataframe tbody tr th:only-of-type {\n",
       "        vertical-align: middle;\n",
       "    }\n",
       "\n",
       "    .dataframe tbody tr th {\n",
       "        vertical-align: top;\n",
       "    }\n",
       "\n",
       "    .dataframe thead th {\n",
       "        text-align: right;\n",
       "    }\n",
       "</style>\n",
       "<table border=\"1\" class=\"dataframe\">\n",
       "  <thead>\n",
       "    <tr style=\"text-align: right;\">\n",
       "      <th></th>\n",
       "      <th>Year</th>\n",
       "      <th>Number</th>\n",
       "      <th>Year.1</th>\n",
       "      <th>Number.1</th>\n",
       "    </tr>\n",
       "  </thead>\n",
       "  <tbody>\n",
       "    <tr>\n",
       "      <th>5</th>\n",
       "      <td>1930</td>\n",
       "      <td>20880.0</td>\n",
       "      <td>1976 1</td>\n",
       "      <td>1097739.0</td>\n",
       "    </tr>\n",
       "    <tr>\n",
       "      <th>37</th>\n",
       "      <td>1962</td>\n",
       "      <td>92758.0</td>\n",
       "      <td>2008 2</td>\n",
       "      <td>1043759.0</td>\n",
       "    </tr>\n",
       "    <tr>\n",
       "      <th>38</th>\n",
       "      <td>1963</td>\n",
       "      <td>88712.0</td>\n",
       "      <td>2009 3</td>\n",
       "      <td>889212.0</td>\n",
       "    </tr>\n",
       "    <tr>\n",
       "      <th>45</th>\n",
       "      <td>1970</td>\n",
       "      <td>345353.0</td>\n",
       "      <td>2016 4</td>\n",
       "      <td>530250.0</td>\n",
       "    </tr>\n",
       "  </tbody>\n",
       "</table>\n",
       "</div>"
      ],
      "text/plain": [
       "    Year    Number  Year.1   Number.1\n",
       "5   1930   20880.0  1976 1  1097739.0\n",
       "37  1962   92758.0  2008 2  1043759.0\n",
       "38  1963   88712.0  2009 3   889212.0\n",
       "45  1970  345353.0  2016 4   530250.0"
      ]
     },
     "execution_count": 48,
     "metadata": {},
     "output_type": "execute_result"
    }
   ],
   "source": [
    "# df_33['Year.1'][type(x) == str for x in df_33['Year.1']]\n",
    "df_33[[type(x) == str for x in df_33['Year.1']]]"
   ]
  },
  {
   "cell_type": "code",
   "execution_count": 82,
   "metadata": {},
   "outputs": [
    {
     "data": {
      "text/html": [
       "<div>\n",
       "<style scoped>\n",
       "    .dataframe tbody tr th:only-of-type {\n",
       "        vertical-align: middle;\n",
       "    }\n",
       "\n",
       "    .dataframe tbody tr th {\n",
       "        vertical-align: top;\n",
       "    }\n",
       "\n",
       "    .dataframe thead th {\n",
       "        text-align: right;\n",
       "    }\n",
       "</style>\n",
       "<table border=\"1\" class=\"dataframe\">\n",
       "  <thead>\n",
       "    <tr style=\"text-align: right;\">\n",
       "      <th></th>\n",
       "      <th>Year</th>\n",
       "      <th>Number</th>\n",
       "      <th>Year.1</th>\n",
       "      <th>Number.1</th>\n",
       "    </tr>\n",
       "  </thead>\n",
       "  <tbody>\n",
       "    <tr>\n",
       "      <th>0</th>\n",
       "      <td>1925</td>\n",
       "      <td>22199.0</td>\n",
       "      <td>1971</td>\n",
       "      <td>420126.0</td>\n",
       "    </tr>\n",
       "    <tr>\n",
       "      <th>1</th>\n",
       "      <td>1926</td>\n",
       "      <td>12735.0</td>\n",
       "      <td>1972</td>\n",
       "      <td>505949.0</td>\n",
       "    </tr>\n",
       "  </tbody>\n",
       "</table>\n",
       "</div>"
      ],
      "text/plain": [
       "   Year   Number  Year.1  Number.1\n",
       "0  1925  22199.0    1971  420126.0\n",
       "1  1926  12735.0    1972  505949.0"
      ]
     },
     "execution_count": 82,
     "metadata": {},
     "output_type": "execute_result"
    }
   ],
   "source": [
    "df_33.head(2)"
   ]
  },
  {
   "cell_type": "markdown",
   "metadata": {},
   "source": [
    "Now I want to combine these year and number columns. To do this, I'll take the '_.1' columns, rename their columns (to match the other columns) and append() them together."
   ]
  },
  {
   "cell_type": "code",
   "execution_count": 95,
   "metadata": {},
   "outputs": [],
   "source": [
    "tmp = df_33.loc[:,['Year.1', 'Number.1']]\n",
    "tmp.columns = ['Year', 'Number']\n",
    "df_33 = df_33.loc[:,['Year', 'Number']].append(tmp, ignore_index=True)"
   ]
  },
  {
   "cell_type": "code",
   "execution_count": 96,
   "metadata": {},
   "outputs": [
    {
     "data": {
      "text/plain": [
       "(92, 2)"
      ]
     },
     "execution_count": 96,
     "metadata": {},
     "output_type": "execute_result"
    }
   ],
   "source": [
    "df_33.shape"
   ]
  },
  {
   "cell_type": "markdown",
   "metadata": {},
   "source": [
    "Now I want to set the index to be the Year."
   ]
  },
  {
   "cell_type": "code",
   "execution_count": 98,
   "metadata": {},
   "outputs": [],
   "source": [
    "df_33.set_index('Year', inplace=True)"
   ]
  },
  {
   "cell_type": "code",
   "execution_count": 99,
   "metadata": {},
   "outputs": [
    {
     "data": {
      "text/html": [
       "<div>\n",
       "<style scoped>\n",
       "    .dataframe tbody tr th:only-of-type {\n",
       "        vertical-align: middle;\n",
       "    }\n",
       "\n",
       "    .dataframe tbody tr th {\n",
       "        vertical-align: top;\n",
       "    }\n",
       "\n",
       "    .dataframe thead th {\n",
       "        text-align: right;\n",
       "    }\n",
       "</style>\n",
       "<table border=\"1\" class=\"dataframe\">\n",
       "  <thead>\n",
       "    <tr style=\"text-align: right;\">\n",
       "      <th></th>\n",
       "      <th>Number</th>\n",
       "    </tr>\n",
       "    <tr>\n",
       "      <th>Year</th>\n",
       "      <th></th>\n",
       "    </tr>\n",
       "  </thead>\n",
       "  <tbody>\n",
       "    <tr>\n",
       "      <th>1925</th>\n",
       "      <td>22199.0</td>\n",
       "    </tr>\n",
       "    <tr>\n",
       "      <th>1926</th>\n",
       "      <td>12735.0</td>\n",
       "    </tr>\n",
       "    <tr>\n",
       "      <th>1927</th>\n",
       "      <td>16393.0</td>\n",
       "    </tr>\n",
       "    <tr>\n",
       "      <th>1928</th>\n",
       "      <td>23566.0</td>\n",
       "    </tr>\n",
       "    <tr>\n",
       "      <th>1929</th>\n",
       "      <td>32711.0</td>\n",
       "    </tr>\n",
       "  </tbody>\n",
       "</table>\n",
       "</div>"
      ],
      "text/plain": [
       "       Number\n",
       "Year         \n",
       "1925  22199.0\n",
       "1926  12735.0\n",
       "1927  16393.0\n",
       "1928  23566.0\n",
       "1929  32711.0"
      ]
     },
     "execution_count": 99,
     "metadata": {},
     "output_type": "execute_result"
    }
   ],
   "source": [
    "df_33.head(5)"
   ]
  },
  {
   "cell_type": "markdown",
   "metadata": {},
   "source": [
    "We're nearly done preprocessing this single table (of 9, the government isn't trying to make this easy), but as we're going to merge this with probably (at least) 8 other columns, I want to change 'Number' to something more meaningful."
   ]
  },
  {
   "cell_type": "code",
   "execution_count": 110,
   "metadata": {},
   "outputs": [],
   "source": [
    "df_33.rename(columns={'Number':'aliens_apprehended'}, inplace=True)"
   ]
  },
  {
   "cell_type": "code",
   "execution_count": 111,
   "metadata": {},
   "outputs": [
    {
     "data": {
      "text/html": [
       "<div>\n",
       "<style scoped>\n",
       "    .dataframe tbody tr th:only-of-type {\n",
       "        vertical-align: middle;\n",
       "    }\n",
       "\n",
       "    .dataframe tbody tr th {\n",
       "        vertical-align: top;\n",
       "    }\n",
       "\n",
       "    .dataframe thead th {\n",
       "        text-align: right;\n",
       "    }\n",
       "</style>\n",
       "<table border=\"1\" class=\"dataframe\">\n",
       "  <thead>\n",
       "    <tr style=\"text-align: right;\">\n",
       "      <th></th>\n",
       "      <th>aliens_apprehended</th>\n",
       "    </tr>\n",
       "    <tr>\n",
       "      <th>Year</th>\n",
       "      <th></th>\n",
       "    </tr>\n",
       "  </thead>\n",
       "  <tbody>\n",
       "    <tr>\n",
       "      <th>1925</th>\n",
       "      <td>22199.0</td>\n",
       "    </tr>\n",
       "    <tr>\n",
       "      <th>1926</th>\n",
       "      <td>12735.0</td>\n",
       "    </tr>\n",
       "    <tr>\n",
       "      <th>1927</th>\n",
       "      <td>16393.0</td>\n",
       "    </tr>\n",
       "    <tr>\n",
       "      <th>1928</th>\n",
       "      <td>23566.0</td>\n",
       "    </tr>\n",
       "    <tr>\n",
       "      <th>1929</th>\n",
       "      <td>32711.0</td>\n",
       "    </tr>\n",
       "  </tbody>\n",
       "</table>\n",
       "</div>"
      ],
      "text/plain": [
       "      aliens_apprehended\n",
       "Year                    \n",
       "1925             22199.0\n",
       "1926             12735.0\n",
       "1927             16393.0\n",
       "1928             23566.0\n",
       "1929             32711.0"
      ]
     },
     "execution_count": 111,
     "metadata": {},
     "output_type": "execute_result"
    }
   ],
   "source": [
    "df_33.head(5)"
   ]
  },
  {
   "cell_type": "code",
   "execution_count": null,
   "metadata": {},
   "outputs": [],
   "source": []
  },
  {
   "cell_type": "code",
   "execution_count": null,
   "metadata": {},
   "outputs": [],
   "source": []
  },
  {
   "cell_type": "code",
   "execution_count": null,
   "metadata": {},
   "outputs": [],
   "source": []
  },
  {
   "cell_type": "code",
   "execution_count": null,
   "metadata": {},
   "outputs": [],
   "source": []
  },
  {
   "cell_type": "code",
   "execution_count": null,
   "metadata": {},
   "outputs": [],
   "source": []
  },
  {
   "cell_type": "code",
   "execution_count": null,
   "metadata": {},
   "outputs": [],
   "source": []
  },
  {
   "cell_type": "code",
   "execution_count": null,
   "metadata": {},
   "outputs": [],
   "source": []
  },
  {
   "cell_type": "code",
   "execution_count": null,
   "metadata": {},
   "outputs": [],
   "source": []
  }
 ],
 "metadata": {
  "kernelspec": {
   "display_name": "Python [conda env:py36]",
   "language": "python",
   "name": "conda-env-py36-py"
  },
  "language_info": {
   "codemirror_mode": {
    "name": "ipython",
    "version": 3
   },
   "file_extension": ".py",
   "mimetype": "text/x-python",
   "name": "python",
   "nbconvert_exporter": "python",
   "pygments_lexer": "ipython3",
   "version": "3.6.4"
  }
 },
 "nbformat": 4,
 "nbformat_minor": 2
}
